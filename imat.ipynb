{
 "cells": [
  {
   "cell_type": "code",
   "execution_count": 1,
   "metadata": {
    "collapsed": true
   },
   "outputs": [],
   "source": [
    "import pandas as pd\n",
    "import json\n",
    "import os"
   ]
  },
  {
   "cell_type": "code",
   "execution_count": 2,
   "metadata": {
    "collapsed": true
   },
   "outputs": [],
   "source": [
    "# файлы с исходными данными\n",
    "TRAIN_DATA_FILE = 'd:/imat_challenge/kaggle/train.json'\n",
    "VAL_DATA_FILE = 'd:/imat_challenge/kaggle/validation.json'\n",
    "TEST_DATA_FILE = 'd:/imat_challenge/kaggle/test.json'\n"
   ]
  },
  {
   "cell_type": "code",
   "execution_count": 3,
   "metadata": {
    "collapsed": true
   },
   "outputs": [],
   "source": [
    "with open(TRAIN_DATA_FILE, 'r') as f:\n",
    "    train_data = json.load(f)\n",
    "with open(VAL_DATA_FILE, 'r') as f:\n",
    "    val_data = json.load(f)\n",
    "with open(TEST_DATA_FILE, 'r') as f:\n",
    "    test_data = json.load(f)"
   ]
  },
  {
   "cell_type": "code",
   "execution_count": 4,
   "metadata": {},
   "outputs": [],
   "source": [
    "train_urls = train_data['images']\n",
    "test_urls = test_data['images']\n",
    "val_urls = val_data['images']"
   ]
  },
  {
   "cell_type": "code",
   "execution_count": 5,
   "metadata": {},
   "outputs": [],
   "source": [
    "train_urls_df = pd.DataFrame(train_urls)\n",
    "test_urls_df = pd.DataFrame(test_urls)\n",
    "val_urls_df = pd.DataFrame(val_urls)"
   ]
  },
  {
   "cell_type": "code",
   "execution_count": 6,
   "metadata": {
    "collapsed": true
   },
   "outputs": [],
   "source": [
    "# пути к папкам с изображениями\n",
    "TRAIN_IMGS_ROOT_PATH = 'D:/imat_challenge/imgs/train'\n",
    "VAL_IMGS_ROOT_PATH = 'D:/imat_challenge/imgs/val'\n",
    "TEST_IMGS_ROOT_PATH = 'D:/imat_challenge/imgs/test'"
   ]
  },
  {
   "cell_type": "code",
   "execution_count": 7,
   "metadata": {
    "collapsed": true
   },
   "outputs": [],
   "source": [
    "import urllib.request"
   ]
  },
  {
   "cell_type": "code",
   "execution_count": 10,
   "metadata": {
    "collapsed": true
   },
   "outputs": [],
   "source": [
    "from urllib.error import HTTPError"
   ]
  },
  {
   "cell_type": "code",
   "execution_count": null,
   "metadata": {
    "scrolled": true
   },
   "outputs": [],
   "source": [
    "for im_path, df in [(TRAIN_IMGS_ROOT_PATH, train_urls_df),\n",
    "                     (TEST_IMGS_ROOT_PATH, test_urls_df),\n",
    "                     (VAL_IMGS_ROOT_PATH,val_urls_df)]:\n",
    "    df['path'] = ''\n",
    "    \n",
    "    if not os.path.exists(im_path):\n",
    "        os.mkdir(im_path)\n",
    "        \n",
    "    for _, row in df.iterrows():\n",
    "        url = row['url']\n",
    "        imgname = url.split('/')[-1]+'.jpeg'\n",
    "        row['path'] = imgname\n",
    "        try:\n",
    "            urllib.request.urlretrieve(url, os.path.join(im_path, imgname))\n",
    "        except HTTPError:\n",
    "            row['path'] = None\n",
    "    break"
   ]
  },
  {
   "cell_type": "code",
   "execution_count": null,
   "metadata": {
    "collapsed": true
   },
   "outputs": [],
   "source": []
  }
 ],
 "metadata": {
  "kernelspec": {
   "display_name": "Python 3",
   "language": "python",
   "name": "python3"
  },
  "language_info": {
   "codemirror_mode": {
    "name": "ipython",
    "version": 3
   },
   "file_extension": ".py",
   "mimetype": "text/x-python",
   "name": "python",
   "nbconvert_exporter": "python",
   "pygments_lexer": "ipython3",
   "version": "3.6.1"
  }
 },
 "nbformat": 4,
 "nbformat_minor": 2
}
